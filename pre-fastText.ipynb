{
 "cells": [
  {
   "cell_type": "code",
   "execution_count": 1,
   "id": "e6dddd50-0b82-4823-946b-aad74d0c7e79",
   "metadata": {},
   "outputs": [],
   "source": [
    "import os\n",
    "import regex as re\n",
    "from re import search\n",
    "import pandas as pd"
   ]
  },
  {
   "cell_type": "code",
   "execution_count": 2,
   "id": "9504a102-2d71-4221-8f19-a65e8c798fbb",
   "metadata": {},
   "outputs": [],
   "source": [
    "folder='nashville_union_american'\n",
    "word='slave'\n",
    "window='window1'\n",
    "window_no=1"
   ]
  },
  {
   "cell_type": "code",
   "execution_count": 4,
   "id": "84d0564c-9a55-48ae-ac68-b0715737f106",
   "metadata": {},
   "outputs": [],
   "source": [
    "df=pd.read_csv('/Users/2010y/opt/viraltext/two_coded/'+'two_levenstein_'+folder+'_'+word+'.csv')\n",
    "word_list=df[df['final']==1]['token']\n",
    "p=re.compile(r\"\\L<words>\", words=word_list)"
   ]
  },
  {
   "cell_type": "code",
   "execution_count": 5,
   "id": "c2057415-6e59-4e64-8f13-424eb396b162",
   "metadata": {},
   "outputs": [],
   "source": [
    "os.chdir('/Users/2010y/opt/viraltext/raw-data/'+folder)"
   ]
  },
  {
   "cell_type": "code",
   "execution_count": 6,
   "id": "3b62e4ea-8a07-4f3c-bf05-d50e46907526",
   "metadata": {},
   "outputs": [],
   "source": [
    "def match(input_string, string_list):\n",
    "    words=re.findall(r'\\w+', input_string)\n",
    "    return [word for word in words if word in string_list]"
   ]
  },
  {
   "cell_type": "code",
   "execution_count": 7,
   "id": "458d234b-85e6-473b-9a20-bffca5d7f171",
   "metadata": {},
   "outputs": [],
   "source": [
    "data=[]\n",
    "word_list=word_list.tolist()\n",
    "word_list.append(word)"
   ]
  },
  {
   "cell_type": "code",
   "execution_count": 8,
   "id": "3237e158-2f82-4e6f-9435-b82f454b0099",
   "metadata": {
    "tags": []
   },
   "outputs": [
    {
     "name": "stdout",
     "output_type": "stream",
     "text": [
      "CPU times: user 41min 45s, sys: 6.4 s, total: 41min 51s\n",
      "Wall time: 42min 4s\n"
     ]
    }
   ],
   "source": [
    "%%time\n",
    "for i in os.listdir():\n",
    "    f=open(i, 'r').readlines()\n",
    "    for error in word_list:\n",
    "        for idx, element in enumerate(f):\n",
    "            if search(error, element):\n",
    "                try:\n",
    "                    data.append((i, (''.join(f[idx-window_no]+f[idx]+f[idx+window_no]).replace('\\n', ' '))))\n",
    "                except:\n",
    "                    continue\n",
    "    #print(i)"
   ]
  },
  {
   "cell_type": "code",
   "execution_count": 9,
   "id": "fa30e4f1-c807-449c-9e2b-cf96d7b0d18a",
   "metadata": {},
   "outputs": [],
   "source": [
    "dataframe=pd.DataFrame(data, columns=('date', 'context'))\n",
    "dataframe=dataframe[~dataframe.duplicated(keep='first')]\n",
    "outname='two_extended_'+folder+'_'+word+'.csv'\n",
    "outdir='/Users/2010y/opt/viraltext/snippet-fasttext'\n",
    "if not os.path.exists(outdir):\n",
    "    os.mkdir(outdir)\n",
    "fullname=os.path.join(outdir, outname)\n",
    "dataframe.to_csv(fullname)"
   ]
  }
 ],
 "metadata": {
  "kernelspec": {
   "display_name": "Python 3 (ipykernel)",
   "language": "python",
   "name": "python3"
  },
  "language_info": {
   "codemirror_mode": {
    "name": "ipython",
    "version": 3
   },
   "file_extension": ".py",
   "mimetype": "text/x-python",
   "name": "python",
   "nbconvert_exporter": "python",
   "pygments_lexer": "ipython3",
   "version": "3.9.6"
  }
 },
 "nbformat": 4,
 "nbformat_minor": 5
}
