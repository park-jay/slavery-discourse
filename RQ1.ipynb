{
 "cells": [
  {
   "cell_type": "code",
   "execution_count": 1,
   "id": "fc9ef9e2",
   "metadata": {},
   "outputs": [
    {
     "name": "stderr",
     "output_type": "stream",
     "text": [
      "[nltk_data] Downloading package punkt to /Users/mstudio/nltk_data...\n",
      "[nltk_data]   Package punkt is already up-to-date!\n",
      "[nltk_data] Downloading package stopwords to\n",
      "[nltk_data]     /Users/mstudio/nltk_data...\n",
      "[nltk_data]   Package stopwords is already up-to-date!\n"
     ]
    }
   ],
   "source": [
    "import pandas as pd\n",
    "import gensim.models\n",
    "from nltk.tokenize import word_tokenize\n",
    "import nltk\n",
    "nltk.download('punkt')\n",
    "nltk.download('stopwords')\n",
    "from nltk.corpus import stopwords\n",
    "stop=stopwords.words('english')"
   ]
  },
  {
   "cell_type": "code",
   "execution_count": 2,
   "id": "e35b80b8",
   "metadata": {},
   "outputs": [],
   "source": [
    "folder='edgefield'"
   ]
  },
  {
   "cell_type": "code",
   "execution_count": 9,
   "id": "86d8cc48",
   "metadata": {},
   "outputs": [],
   "source": [
    "import spacy\n",
    "nlp=spacy.load('en_core_web_sm')"
   ]
  },
  {
   "cell_type": "code",
   "execution_count": 10,
   "id": "e3427f7d",
   "metadata": {},
   "outputs": [],
   "source": [
    "import os\n",
    "os.chdir('snippet-dedupe')"
   ]
  },
  {
   "cell_type": "code",
   "execution_count": 11,
   "id": "ba428dde",
   "metadata": {
    "tags": []
   },
   "outputs": [],
   "source": [
    "# df_negro=pd.read_csv('two_extended_anti_slavery_bugle_negro.csv')\n",
    "df_slave=pd.read_csv('dedupe_two_extended_'+folder+'_slave'+'.csv')\n",
    "df_servant=pd.read_csv('dedupe_two_extended_'+folder+'_servant'+'.csv')"
   ]
  },
  {
   "cell_type": "code",
   "execution_count": 12,
   "id": "14dba18d",
   "metadata": {},
   "outputs": [],
   "source": [
    "frame=[df_slave, df_servant]"
   ]
  },
  {
   "cell_type": "markdown",
   "id": "1d464e3d",
   "metadata": {},
   "source": [
    "pre-processing"
   ]
  },
  {
   "cell_type": "code",
   "execution_count": 13,
   "id": "7530f890",
   "metadata": {},
   "outputs": [],
   "source": [
    "df=pd.concat(frame)"
   ]
  },
  {
   "cell_type": "code",
   "execution_count": 14,
   "id": "14c74e2c",
   "metadata": {},
   "outputs": [],
   "source": [
    "def lemmatization(dataframe:pd.DataFrame()):\n",
    "    dataframe['stopword']=dataframe['context'].apply(lambda x:' '.join([word for word in x.split() if word not in (stop)]))\n",
    "    dataframe['punct']=dataframe['stopword'].str.replace('[^\\w\\s]', '')\n",
    "    dataframe['lower']=dataframe['punct'].str.lower()\n",
    "    dataframe['lemma']=dataframe['lower'].apply(lambda row:' '.join([w.lemma_ for w in nlp(row)]))\n",
    "    dataframe['token']=dataframe['lemma'].apply(word_tokenize)\n",
    "    return dataframe"
   ]
  },
  {
   "cell_type": "code",
   "execution_count": 15,
   "id": "24ad706c",
   "metadata": {},
   "outputs": [
    {
     "name": "stderr",
     "output_type": "stream",
     "text": [
      "/var/folders/3_/r8z51q092v566bd_r0g_zj640000gn/T/ipykernel_5508/2545040651.py:3: FutureWarning: The default value of regex will change from True to False in a future version.\n",
      "  dataframe['punct']=dataframe['stopword'].str.replace('[^\\w\\s]', '')\n"
     ]
    },
    {
     "name": "stdout",
     "output_type": "stream",
     "text": [
      "CPU times: user 57 s, sys: 236 ms, total: 57.3 s\n",
      "Wall time: 57.3 s\n"
     ]
    }
   ],
   "source": [
    "%%time\n",
    "df=lemmatization(df)"
   ]
  },
  {
   "cell_type": "markdown",
   "id": "2d417514",
   "metadata": {},
   "source": [
    "word2vec"
   ]
  },
  {
   "cell_type": "code",
   "execution_count": 16,
   "id": "8f282aec",
   "metadata": {},
   "outputs": [],
   "source": [
    "from gensim.models.word2vec import Word2Vec"
   ]
  },
  {
   "cell_type": "code",
   "execution_count": 17,
   "id": "9ee2beb9",
   "metadata": {},
   "outputs": [],
   "source": [
    "model=Word2Vec([row for row in df['token']], min_count=10, workers=3, window=5, sg=1)"
   ]
  },
  {
   "cell_type": "code",
   "execution_count": 18,
   "id": "9050c44b",
   "metadata": {},
   "outputs": [],
   "source": [
    "from gensim.models import KeyedVectors\n",
    "servant_slave=model.wv.most_similar(positive=['servant'], negative=['slave'], topn=100)\n",
    "slave_servant=model.wv.most_similar(positive=['slave'], negative=['servant'], topn=100)"
   ]
  },
  {
   "cell_type": "code",
   "execution_count": 19,
   "id": "9c7b0701",
   "metadata": {},
   "outputs": [],
   "source": [
    "dataframe=pd.DataFrame(slave_servant, columns=('token', 'similarity'))\n",
    "outname='slave_servant_'+folder+'_min10.csv'\n",
    "outdir='../word2vec-dedupe'\n",
    "if not os.path.exists(outdir):\n",
    "    os.mkdir(outdir)\n",
    "fullname=os.path.join(outdir, outname)\n",
    "dataframe.to_csv(fullname)"
   ]
  },
  {
   "cell_type": "code",
   "execution_count": 20,
   "id": "ae656729",
   "metadata": {},
   "outputs": [],
   "source": [
    "dataframe=pd.DataFrame(servant_slave, columns=('token', 'similarity'))\n",
    "outname='servant_slave_'+folder+'_min10.csv'\n",
    "outdir='../word2vec-dedupe'\n",
    "if not os.path.exists(outdir):\n",
    "    os.mkdir(outdir)\n",
    "fullname=os.path.join(outdir, outname)\n",
    "dataframe.to_csv(fullname)"
   ]
  }
 ],
 "metadata": {
  "kernelspec": {
   "display_name": "Python 3.10.6 ('viraltext')",
   "language": "python",
   "name": "python3"
  },
  "language_info": {
   "codemirror_mode": {
    "name": "ipython",
    "version": 3
   },
   "file_extension": ".py",
   "mimetype": "text/x-python",
   "name": "python",
   "nbconvert_exporter": "python",
   "pygments_lexer": "ipython3",
   "version": "3.10.6"
  },
  "vscode": {
   "interpreter": {
    "hash": "a8635dbfdd54611560550ce9d7e88cfa23020ca3229bc7976de59d1d3a660481"
   }
  }
 },
 "nbformat": 4,
 "nbformat_minor": 5
}
